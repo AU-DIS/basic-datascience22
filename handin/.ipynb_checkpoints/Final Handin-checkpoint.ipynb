{
 "cells": [
  {
   "cell_type": "markdown",
   "id": "piano-communication",
   "metadata": {},
   "source": [
    "# Basic Data Science in Python - Project\n",
    "## YOUR NAME HERE ##\n",
    "\n",
    "This handin is indiviual and mandatory to pass the course.\n",
    "\n",
    "Hand in this .ipynb file, no later than 14/10 kl 23:59. "
   ]
  },
  {
   "cell_type": "markdown",
   "id": "loved-cincinnati",
   "metadata": {},
   "source": [
    "### Project description\n",
    "For this project, you have almost no limitations. You are going to be working with the Iris dataset, and your goal is to try out the different methods you have learned in the course. \n",
    "\n",
    "\n",
    "Concretely, you should use your knowledge of testing, overfitting, and the pros and cons of different models, to predict Iris species from petal and sepal measures. Try at least two different methods. You must reason about your choice of methods, as well as evaluate your results. Can you visualize your results somehow?"
   ]
  },
  {
   "cell_type": "code",
   "execution_count": 1,
   "id": "attempted-perth",
   "metadata": {},
   "outputs": [],
   "source": [
    "from sklearn import datasets\n",
    "dataset = datasets.load_iris()\n",
    "\n",
    "### Good luck, have fun!"
   ]
  }
 ],
 "metadata": {
  "kernelspec": {
   "display_name": "Python 3",
   "language": "python",
   "name": "python3"
  },
  "language_info": {
   "codemirror_mode": {
    "name": "ipython",
    "version": 3
   },
   "file_extension": ".py",
   "mimetype": "text/x-python",
   "name": "python",
   "nbconvert_exporter": "python",
   "pygments_lexer": "ipython3",
   "version": "3.8.10"
  }
 },
 "nbformat": 4,
 "nbformat_minor": 5
}
